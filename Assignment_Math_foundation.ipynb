{
 "cells": [
  {
   "cell_type": "code",
   "execution_count": 9,
   "id": "19405e47",
   "metadata": {},
   "outputs": [
    {
     "name": "stdout",
     "output_type": "stream",
     "text": [
      "A:\n",
      "[[4 2 4 6]\n",
      " [5 3 6 9]\n",
      " [6 4 8 1]]\n",
      "B:\n",
      "[[6]\n",
      " [7]\n",
      " [8]]\n"
     ]
    }
   ],
   "source": [
    "import pandas as pd # Python library used for working with data sets\n",
    "A = pd.read_csv(\"pythonmatrixA.csv\") #Read the CSV into a DataFrame\n",
    "A=A.to_numpy() #formatting the Array\n",
    "print(\"A:\")\n",
    "print(A)\n",
    "import pandas as pd\n",
    "B = pd.read_csv(\"pythonvectorB.csv\")#Read the vector from csv\n",
    "B=B.to_numpy()\n",
    "print(\"B:\")\n",
    "print(B)"
   ]
  },
  {
   "cell_type": "code",
   "execution_count": 10,
   "id": "49529c64",
   "metadata": {},
   "outputs": [
    {
     "name": "stdout",
     "output_type": "stream",
     "text": [
      "A:\n",
      "[[ 2  4  6  8]\n",
      " [ 3  6  9 12]\n",
      " [ 4  8 12 16]\n",
      " [ 5 10 15 20]]\n",
      "L\n",
      "[[1.   0.   0.   0.  ]\n",
      " [0.6  1.   0.   0.  ]\n",
      " [0.8  0.5  1.   0.  ]\n",
      " [0.4  0.25 0.   1.  ]]\n",
      "U\n",
      "[[ 5.00000000e+00  1.00000000e+01  1.50000000e+01  2.00000000e+01]\n",
      " [ 0.00000000e+00 -8.88178420e-16 -1.33226763e-15 -1.77635684e-15]\n",
      " [ 0.00000000e+00  0.00000000e+00  0.00000000e+00  0.00000000e+00]\n",
      " [ 0.00000000e+00  0.00000000e+00  0.00000000e+00  0.00000000e+00]]\n"
     ]
    }
   ],
   "source": [
    "import numpy as np\n",
    "#library for linear algebra\n",
    "import scipy.linalg as lg \n",
    "#Defining a square matrix \n",
    "A = np.array([[2,4,6,8],[3,6,9,12],[4,8,12,16],[5,10,15,20]])\n",
    "print(\"A:\")\n",
    "print(A)\n",
    "#LU-decomposition \n",
    "#A = PLU\n",
    "P,L,U = lg.lu(A)#fuction lu for matrix A =>lu(A)\n",
    "#l= Lower Tringular Matrix\n",
    "#U= Uppr Tringular Matrix\n",
    "#P = Unit Vector\n",
    "print(\"L\")\n",
    "print(L)\n",
    "print(\"U\")\n",
    "print(U)"
   ]
  },
  {
   "cell_type": "code",
   "execution_count": 40,
   "id": "464767f0",
   "metadata": {},
   "outputs": [
    {
     "name": "stdout",
     "output_type": "stream",
     "text": [
      "matrix is symmetric\n",
      "P:\n",
      "[[ 0.72547625 -0.6882472   0.14018702]\n",
      " [-0.21764288 -0.22941573  0.88874698]\n",
      " [ 0.65292863  0.6882472   0.43643602]]\n",
      "D:\n",
      "[[12.  0.  0.]\n",
      " [ 0. -7.  0.]\n",
      " [ 0.  0. 12.]]\n",
      "P_inv:\n",
      "[[ 7.25476250e-01 -4.04482640e-01  5.90648703e-01]\n",
      " [-6.88247202e-01 -2.29415734e-01  6.88247202e-01]\n",
      " [-8.94568655e-18  9.66906975e-01  3.22302325e-01]]\n",
      "eigenvalues:\n",
      "[[ 1.57894737e+00 -8.35152135e-01  7.45211560e-01]\n",
      " [-4.49376299e-01  5.78947368e-01  1.83503287e+00]\n",
      " [-5.25680534e-17  1.99641306e+00  4.21993031e-01]]\n",
      "[12. -7. 12.]\n"
     ]
    }
   ],
   "source": [
    "# Diagonalization of matrix\n",
    "  \n",
    "import numpy as np\n",
    "A=np.array([[3,-3,9],[-3,11,3],[9,3,3]])\n",
    "eigenvalues,eigenvectors = np.linalg.eig(A)\n",
    "P= eigenvectors\n",
    "\n",
    "B=A.transpose() # Transpose of given array\n",
    "\n",
    "if np.array_equal(A,B):#compare arrays using array_equal() method\n",
    "    print(\"matrix is symmetric\")\n",
    "D = np.zeros((3,3))\n",
    "for i in range(3):\n",
    "    D[i,i]= eigenvalues[i]\n",
    "P_inv= np.linalg.inv(P)\n",
    "print('P:')\n",
    "print(P) # eigensvectors matrix \n",
    "print('D:')\n",
    "print(D)\n",
    "print('P_inv:') # inverse of eigensvector matrix\n",
    "print(P_inv)\n",
    "print('eigenvalues:') \n",
    "d =P*A*P_inv\n",
    "print(d)\n",
    "print(eigenvalues)# for eigensvalues pairs \n",
    "        \n",
    "\n",
    "    \n",
    "    "
   ]
  },
  {
   "cell_type": "code",
   "execution_count": 4,
   "id": "7f78723a",
   "metadata": {},
   "outputs": [
    {
     "name": "stdout",
     "output_type": "stream",
     "text": [
      "eigens-pair  [12. -7. 12.] \n",
      " [[ 0.72547625 -0.6882472   0.14018702]\n",
      " [-0.21764288 -0.22941573  0.88874698]\n",
      " [ 0.65292863  0.6882472   0.43643602]]\n"
     ]
    }
   ],
   "source": [
    "#EIGEN PAIRS \n",
    "import numpy as np\n",
    "A=np.array([[3,-3,9],[-3,11,3],[9,3,3]])\n",
    "eigenvalues,eigenvectors = np.linalg.eig(A)\n",
    "print('eigens-pair ',eigenvalues,\"\\n\", eigenvectors)"
   ]
  },
  {
   "cell_type": "code",
   "execution_count": 3,
   "id": "02ce5de4",
   "metadata": {},
   "outputs": [
    {
     "name": "stdout",
     "output_type": "stream",
     "text": [
      "X\n",
      "[[-0.84242424]\n",
      " [ 0.83636364]\n",
      " [ 0.06666667]]\n",
      "Matrix A\t\t\tVector B\n",
      " 22\t 33\t 44\t \t 12\t \n",
      " 55\t 66\t 77\t \t 14\t \n",
      " 11\t 22\t 88\t \t 15\t \n",
      " \n",
      "Vector X\n",
      "-0.84\n",
      " 0.84\n",
      " 0.07\n",
      " \n",
      "The system has a unique solution.\n"
     ]
    }
   ],
   "source": [
    "#solve the equation Ax=b\n",
    "import numpy as np\n",
    "import scipy.linalg as lg\n",
    "A = np.array([[22,33,44],[55,66,77],[11,22,88]])\n",
    "B = np.array([[12],[14],[15]])\n",
    "#AX=B\n",
    "#LUX =B\n",
    "#LV=B ...(Ux=V)\n",
    "#\n",
    "LU,V=lg.lu_factor(A)#\n",
    "X= lg.lu_solve((LU,V),B)\n",
    "print(\"X\")\n",
    "print(X)\n",
    "\n",
    "#solution\n",
    "import pandas as pandas\n",
    "import numpy as numpy\n",
    "from scipy.linalg import solve\n",
    "from numpy.linalg import matrix_rank\n",
    "\n",
    "\n",
    "numberOfRows_MatrixA, numberOfColumns_MatrixA = A.shape\n",
    "\n",
    "numberOfRows_VectorB, numberOfColumns_VectorB = B.shape\n",
    "print(\"Matrix A\\t\\t\\tVector B\")\n",
    "for i in range(numberOfRows_MatrixA):\n",
    "    for j in range(numberOfColumns_MatrixA):\n",
    "        space = ' '\n",
    "        if(A[i][j] < 0):\n",
    "            space = ''\n",
    "        print(space + format(numpy.round(A[i][j], 2)), end = \"\\t\")\n",
    "    print(\" \", end = \"\\t\")\n",
    "    for j in range(numberOfColumns_VectorB):\n",
    "        space = ' '\n",
    "        if(B[i][j] < 0):\n",
    "            space = ''\n",
    "        print(space + format(numpy.round(B[i][j], 2)), end = \"\\t\")\n",
    "    print(\" \")\n",
    "print(\" \")\n",
    "print(\"Vector X\")\n",
    "vectorX = solve(A, B)\n",
    "for i in range(numberOfColumns_MatrixA):\n",
    "    for j in range(numberOfColumns_VectorB):\n",
    "        space = ' '\n",
    "        if(vectorX[i][j] < 0):\n",
    "            space = ''\n",
    "        print(space + format(numpy.round(vectorX[i][j], 2)))\n",
    "print(\" \")\n",
    "rankOfMatrixA = matrix_rank(A);\n",
    "augmentedMatrix = numpy.hstack((A, B))\n",
    "rankOfAugmentedMatrix = matrix_rank(augmentedMatrix)\n",
    "if(rankOfMatrixA == rankOfAugmentedMatrix):\n",
    "    if(rankOfMatrixA == numberOfColumns_MatrixA):\n",
    "        print(\"The system has a unique solution.\")\n",
    "    else:\n",
    "        print(\"The system has infinite-many solutions.\")\n",
    "else:\n",
    "    print(\"The system is inconsistent.\")\n"
   ]
  },
  {
   "cell_type": "code",
   "execution_count": 35,
   "id": "b981e2be",
   "metadata": {
    "scrolled": true
   },
   "outputs": [
    {
     "name": "stdout",
     "output_type": "stream",
     "text": [
      "inputs\n",
      "[[ 0 30 45]\n",
      " [90 30 20]\n",
      " [30 60 90]]\n",
      "i/p was taken as Radians:\n",
      " [[ 0.         -0.98803162  0.85090352]\n",
      " [ 0.89399666 -0.98803162  0.91294525]\n",
      " [-0.98803162 -0.30481062  0.89399666]]\n",
      "i/p was taken as Degree:\n",
      "[[0.         0.5        0.70710678]\n",
      " [1.         0.5        0.34202014]\n",
      " [0.5        0.8660254  1.        ]]\n"
     ]
    }
   ],
   "source": [
    "#sine function\n",
    "#numpy.sin(input) where input can be a single number as well as a NumPy Array and \n",
    "#The Numpy sin function takes an angle in radians as an argument.\n",
    "import numpy as np\n",
    "\n",
    "A = np.array([[0, 30,45],[90,30,20],[30,60,90]])\n",
    "print(\"inputs\")\n",
    "print(A)\n",
    "z = np.sin(A)\n",
    "print(\"i/p was taken as Radians:\\n\",z)\n",
    "B = np.sin(A*np.pi/180)\n",
    "print(\"i/p was taken as Degree:\")\n",
    "print(B)\n"
   ]
  },
  {
   "cell_type": "code",
   "execution_count": 39,
   "id": "18b26487",
   "metadata": {},
   "outputs": [
    {
     "name": "stdout",
     "output_type": "stream",
     "text": [
      "Exponential of matrix:\n",
      " [[4.85165195e+08 4.85165195e+08 1.06864746e+13]\n",
      " [2.35385267e+17 1.14200739e+26 1.22040329e+39]\n",
      " [4.85165195e+08 2.35385267e+17 7.49841700e+33]]\n"
     ]
    }
   ],
   "source": [
    "#Exponential Values of 2-D NumPy Array\n",
    "#np.exp(arr)\n",
    "import numpy as np\n",
    "A= np.array([[20,20,30],[40,60,90],[20,40,78]])\n",
    "B=np.exp(A)\n",
    "print(\"Exponential of matrix:\\n\",B)\n"
   ]
  },
  {
   "cell_type": "code",
   "execution_count": 51,
   "id": "49249e6e",
   "metadata": {},
   "outputs": [
    {
     "name": "stdout",
     "output_type": "stream",
     "text": [
      "values of sigmoid function:\n",
      " [[0.5        0.549834   0.57444252]\n",
      " [0.7109495  0.64565631 0.68997448]\n",
      " [1.         0.62245933 0.52497919]]\n",
      "\n",
      "2nd methord: \n",
      " [[0.5        0.549834   0.57444252]\n",
      " [0.7109495  0.64565631 0.68997448]\n",
      " [1.         0.62245933 0.52497919]]\n"
     ]
    }
   ],
   "source": [
    "# sigmoid function = 1/(1 + np.exp(-x))\n",
    "import numpy as np\n",
    "A= np.array([[0,0.2,0.3],[0.9,0.6,0.8],[30,0.5,0.1]])\n",
    "B= 1/(1 + np.exp(-A))\n",
    "print(\"values of sigmoid function:\\n\",B)\n",
    "#using def sigmoid(x):\n",
    "#    return 1.0 / (1.0 + np.exp(-x))\n",
    "def sigmoid(x):\n",
    "    return 1.0 / (1.0 + np.exp(-x))\n",
    "print(\"\\n2nd methord: \\n\", sigmoid(A))"
   ]
  },
  {
   "cell_type": "code",
   "execution_count": null,
   "id": "0f044005",
   "metadata": {},
   "outputs": [],
   "source": []
  }
 ],
 "metadata": {
  "kernelspec": {
   "display_name": "Python 3 (ipykernel)",
   "language": "python",
   "name": "python3"
  },
  "language_info": {
   "codemirror_mode": {
    "name": "ipython",
    "version": 3
   },
   "file_extension": ".py",
   "mimetype": "text/x-python",
   "name": "python",
   "nbconvert_exporter": "python",
   "pygments_lexer": "ipython3",
   "version": "3.9.13"
  }
 },
 "nbformat": 4,
 "nbformat_minor": 5
}
